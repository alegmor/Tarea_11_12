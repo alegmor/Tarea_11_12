{
 "cells": [
  {
   "cell_type": "markdown",
   "id": "552e0bcb",
   "metadata": {
    "deletable": false,
    "editable": false,
    "nbgrader": {
     "cell_type": "markdown",
     "checksum": "756b5d53869b6d729ec69aad85d58ea2",
     "grade": false,
     "grade_id": "cell-647c882cae23e053",
     "locked": true,
     "schema_version": 3,
     "solution": false,
     "task": false
    }
   },
   "source": [
    "<div>\n",
    "<img align=\"center\"\n",
    "src=\"Images/HT-banner-CONV.png\" width=\"950\" height=\"9500\"/>\n",
    "</div>\n"
   ]
  },
  {
   "cell_type": "markdown",
   "id": "93dae2da",
   "metadata": {
    "deletable": false,
    "editable": false,
    "nbgrader": {
     "cell_type": "markdown",
     "checksum": "be1be000a4da38f5c728a0e31246b2b0",
     "grade": false,
     "grade_id": "cell-784bcae139aa0578",
     "locked": true,
     "schema_version": 3,
     "solution": false,
     "task": false
    }
   },
   "source": [
    "## <center> Flujo paralelo sobre placas planas <center/>\n",
    "    \n",
    "<div>\n",
    "<img align=\"center\"\n",
    "src=\"Images/Screenshot from 2022-12-06 10-31-05.png\" width=\"500\" height=\"500\"/>\n",
    "</div>\n"
   ]
  },
  {
   "cell_type": "markdown",
   "id": "9e553070",
   "metadata": {},
   "source": [
    "### <center >Método de Blasius para resolver las ecuaciones de capa límite de Prandtl\n",
    "\n",
    "Para integrar la ecuación de cantidad de movimiento, se usa el método de similaridad.\n",
    "\n",
    "Se define la función de corriente $\\psi$\n",
    "    \n",
    "$$u = \\dfrac{\\partial \\psi}{\\partial y} \\qquad v = \\dfrac{\\partial \\psi}{\\partial x}.$$ \n",
    "\n",
    "Las variables de similaridad se definen \n",
    "    \n",
    "$$\\eta =  y \\sqrt{u_\\infty/\\nu x}$$\n",
    "    \n",
    "$$f(\\eta) = \\dfrac{\\psi}{u_\\infty \\sqrt{\\nu x/ u_\\infty}}.$$\n",
    "    \n",
    "(a) Muestra que en términos de estas variables, las componentes de la velocidad $\\mathbf{v}=(u,v)$ y sus derivadas son\n",
    "\n",
    "$$u = u_\\infty \\dfrac{df}{d\\eta},\\qquad  v = \\dfrac{1}{2} \\sqrt{\\dfrac{\\nu u_\\infty}{x}} \\left(\\eta \\dfrac{df}{d\\eta} -f\\right),\\qquad  \\dfrac{\\partial u}{\\partial x}= - \\dfrac{u_\\infty}{2x}\\eta \\dfrac{d^2 f}{d \\eta^2}, \\qquad  \\dfrac{\\partial u}{\\partial y}= u_\\infty \\sqrt{\\dfrac{u_\\infty}{\\nu x}} \\dfrac{d^2 f}{d \\eta^2},\\qquad  \\dfrac{\\partial^2 u}{\\partial y^2}= \\dfrac{{u_\\infty}^2}{\\nu x} \\dfrac{d^3 f}{d \\eta^3}.$$\n",
    "        \n",
    "\n",
    "Sustituyendo las expresiones anteriores en la ecuación de conservación obtenemos una ecuación diferencial ordinaria de tercer orden nolineal para la función de conrriente en función de $\\eta$ dada por\n",
    "\n",
    "$$2 \\dfrac{d^3 f}{d \\eta ^3} +  f \\dfrac{d^2 f}{d \\eta^2} =0.$$\n",
    "    \n",
    "Para fines de la integración numérica reescribimos la ecuación anterior como\n",
    "\n",
    "$$f'''+ \\dfrac{1}{2} f f''=0.\\quad (1)$$\n",
    "\n",
    "Las condiciones de frontera en términos de variables de similitud son\n",
    "\n",
    "$$\\dfrac{df}{d \\eta} \\Big|_{\\eta=0} = f(0)= 0, \\qquad \\dfrac{df}{d\\eta} \\Big{|}_{\\eta=\\infty}  = 1.$$\n",
    "La solución de la ecuación (1) con las condiciones de frontera mencionadas, se obtiene mediante una expansión en serie o por integración numérica. En lo que sigue convertimos estas ecuaciones a un sistema de ecuaciones diferenciales de primer orden \n",
    "\n",
    "$$f_1=f$$\n",
    "$$f_2=f_1'$$\n",
    "$$f_3=f_2'$$\n",
    "$$f_3'=- \\dfrac{1}{2} f_1f_3$$\n",
    "\n",
    "\n",
    "(b) Realiza la solución numérica y calcula las componentes de la velocidad con $u_{\\infty}=0.01$, $\\nu = 1.79x10^-6$.\n",
    "\n",
    "(c) Grafica $u(y)$ y $v(y)$ para $x = 0.01$, $x=0.1$ y $x=1$ e interpreta tus resultados.\n",
    "    \n",
    "(d) Calcula la velocidad al borde de la capa límite y muestra que la velocidad axial en el borde de la capa límite  $u \\approx 0.99 u_{\\infty}$, con $\\eta=5.0$. Sustituimos este valor en la ecuación\n",
    "\n",
    "$$\\eta = \\dfrac{y}{\\sqrt{u_{\\infty}/\\nu x}}.$$\n",
    "\n",
    "De lo anterior, se define el espesor de la capa límite $\\delta$ como el valor de $y$ para el que $u \\approx 0.99 u_{\\infty}$, esto es\n",
    "\n",
    "$$\\delta= \\dfrac{5.0}{\\sqrt{u_{\\infty}/\\nu x}}= \\dfrac{5x}{\\sqrt{Re_x}}$$\n",
    "\n",
    "(e) Grafica el campo de velocidades y el espesor de la capa límite $\\delta$.\n",
    "\n",
    "Una vez que conocemos la velocidad axial como función de la coordenada vertical $u(y)$, o equivalentemente, la función de corriente f como función de la coordenada de similaridad η, podemos calcular el esfuerzo cortante, esto es la fuerza que hace el fluido sobre la placa (o viceversa) invocando la definición de esfuerzo cortante para un fluido newtoniano:\n",
    "\n",
    "$$\\tau_s = \\mu \\dfrac{\\partial u}{\\partial y}\\Big{|}_{y=0}= \\mu u_{\\infty}\\sqrt{u_{\\infty}/\\nu x} \\dfrac{d^2 f}{d \\eta^2}\\Big{|}_{\\eta=0} = 0.332 u_{\\infty} \\sqrt{\\rho \\mu u_{\\infty}/ x} $$\n",
    "\n",
    "El coeficiente local de fricción \n",
    "\n",
    "$$C_{f,x}= \\dfrac{\\tau_{s,x}}{\\rho u^2_{\\infty}/2}= 0.664 {Re_x}^{-1/2} $$\n",
    "\n",
    "\n",
    "\n",
    "(f) Calcular, graficar y explicar $\\tau_s$ y $C_{f,x}$.\n",
    "\n"
   ]
  },
  {
   "cell_type": "code",
   "execution_count": null,
   "id": "c463173c",
   "metadata": {
    "deletable": false,
    "editable": false,
    "nbgrader": {
     "cell_type": "code",
     "checksum": "b297a53318ddc09c6cd14469622ed662",
     "grade": false,
     "grade_id": "cell-303f1b0fcec82957",
     "locked": true,
     "schema_version": 3,
     "solution": false,
     "task": false
    }
   },
   "outputs": [],
   "source": [
    "import numpy as np\n",
    "import pandas as pd\n",
    "import matplotlib.pyplot as plt\n",
    "from scipy.integrate import odeint\n",
    "from scipy.optimize import fsolve\n",
    "from macti.evaluacion import Evalua"
   ]
  },
  {
   "cell_type": "code",
   "execution_count": null,
   "id": "6fa9c353",
   "metadata": {
    "deletable": false,
    "editable": false,
    "nbgrader": {
     "cell_type": "code",
     "checksum": "9bbf84aecbf8621202f81b29bbec19ba",
     "grade": false,
     "grade_id": "cell-ecd52f7068fefe18",
     "locked": true,
     "schema_version": 3,
     "solution": false,
     "task": false
    }
   },
   "outputs": [],
   "source": [
    "#definir parámetros\n",
    "ui  = 0.01\n",
    "nu  = 0.00000179\n",
    "x1  = 0.01\n",
    "x2  = 0.1\n",
    "x3  = 1 \n",
    "ETA = 35\n",
    "eta = np.linspace(0,7,ETA)"
   ]
  },
  {
   "cell_type": "code",
   "execution_count": null,
   "id": "4fe2471d",
   "metadata": {
    "deletable": false,
    "editable": false,
    "nbgrader": {
     "cell_type": "code",
     "checksum": "5c618e2c5fd4e3539d8ace1ae34f1df3",
     "grade": false,
     "grade_id": "cell-edc16f4f62d9a6e3",
     "locked": true,
     "schema_version": 3,
     "solution": false,
     "task": false
    }
   },
   "outputs": [],
   "source": [
    "# (b) Realiza la solución numérica y calcula las componentes de la velocidad\n",
    "\n",
    "def blas(f,t):\n",
    "    return (f[1],f[2],-0.5*f[0]*f[2])\n",
    "\n",
    "f0  = [0,0,0.332]\n",
    "f   = odeint(blas,f0,eta)\n"
   ]
  },
  {
   "cell_type": "code",
   "execution_count": null,
   "id": "d8314b42",
   "metadata": {
    "deletable": false,
    "nbgrader": {
     "cell_type": "code",
     "checksum": "e921fff6f528c77a52feb07c936623a5",
     "grade": true,
     "grade_id": "cell-143714ac3f09f7c0",
     "locked": false,
     "points": 1,
     "schema_version": 3,
     "solution": true,
     "task": false
    }
   },
   "outputs": [],
   "source": [
    "# YOUR CODE HERE\n",
    "raise NotImplementedError()"
   ]
  },
  {
   "cell_type": "code",
   "execution_count": null,
   "id": "145da50a",
   "metadata": {
    "deletable": false,
    "editable": false,
    "nbgrader": {
     "cell_type": "code",
     "checksum": "25c98a6ed71865441c3b554cd35b3a3c",
     "grade": false,
     "grade_id": "cell-124e65bac24a5f42",
     "locked": true,
     "schema_version": 3,
     "solution": false,
     "task": false
    }
   },
   "outputs": [],
   "source": [
    "#(c) Grafica u(y) y v(y) para x = 0.01, x=0.1 y x=1.\n",
    "fig,(ax1,ax2) = plt.subplots(1,2,figsize=(16,4))\n",
    "\n",
    "y1    = eta/np.sqrt(ui/(nu*x1))\n",
    "y2    = eta/np.sqrt(ui/(nu*x2))\n",
    "y3    = eta/np.sqrt(ui/(nu*x3))\n",
    "\n",
    "u1,v1 = vel(x1,y1,eta,f,dfdn)\n",
    "u2,v2 = vel(x2,y2,eta,f,dfdn)\n",
    "u3,v3 = vel(x3,y3,eta,f,dfdn)\n",
    "\n",
    "ax1.plot(y1,u1,label=\"$x=0.01$\")\n",
    "ax1.plot(y2,u2,label=\"$x=0.1$\")\n",
    "ax1.plot(y3,u3,label=\"$x=1$\")\n",
    "ax1.set_xlabel(\"$y$\")\n",
    "ax1.set_ylabel(\"$u$\")\n",
    "ax1.set_xlim(0,0.1)\n",
    "ax1.set_ylim(0,0.01)\n",
    "ax1.legend()\n",
    "\n",
    "ax2.plot(y1,v1,label=\"$x=0.01$\")\n",
    "ax2.plot(y2,v2,label=\"$x=0.1$\")\n",
    "ax2.plot(y3,v3,label=\"$x=1$\")\n",
    "ax2.set_xlabel(\"$y$\")\n",
    "ax2.set_ylabel(\"$v$\")\n",
    "#ax2.set_ylim(0,0.011)\n",
    "ax2.legend()\n",
    "\n",
    "\n",
    "\n",
    "plt.show()"
   ]
  },
  {
   "cell_type": "code",
   "execution_count": null,
   "id": "9fc5da50",
   "metadata": {
    "deletable": false,
    "editable": false,
    "nbgrader": {
     "cell_type": "code",
     "checksum": "bc325cd57e57365cf163e4dd7cb8bc07",
     "grade": false,
     "grade_id": "cell-76dc9cd8aa7fd551",
     "locked": true,
     "schema_version": 3,
     "solution": false,
     "task": false
    }
   },
   "outputs": [],
   "source": [
    "#La velocidad transversal en el borde de la capa límite es \n",
    "\n",
    "\n",
    "u,v = vel(x,y,n[24],f[24],dfdn[24])\n",
    "\n",
    "plt.plot(x,v)\n",
    "plt.grid()\n",
    "plt.ylabel(\"$v[m/s]$\",rotation=0,labelpad=40)\n",
    "plt.xlabel(\"$x[m]$\")\n",
    "plt.show()"
   ]
  },
  {
   "cell_type": "code",
   "execution_count": null,
   "id": "38ba80c1",
   "metadata": {
    "deletable": false,
    "editable": false,
    "nbgrader": {
     "cell_type": "code",
     "checksum": "77b71ca6c43bbacc036e709f85584b44",
     "grade": false,
     "grade_id": "cell-8d08ea7e0d3d3432",
     "locked": true,
     "schema_version": 3,
     "solution": false,
     "task": false
    }
   },
   "outputs": [],
   "source": [
    "#(d) Grafica el campo de velocidades y el espesor de la capa límite.\n",
    "\n",
    "Y,X    = np.meshgrid(x,y)\n",
    "n      = np.full((len(bl),len(bl)),eta)\n",
    "dfdeta = np.full((len(bl),len(bl)),dfdn)\n",
    "efe    = np.full((len(bl),len(bl)),f)\n",
    "\n",
    "delta  = (5)/np.sqrt(ui/(nu*x))\n",
    "\n",
    "u,v    = vel(X,Y,n,efe,dfdeta)\n",
    "\n",
    "\n",
    "M = np.sqrt(u*u+v*v) # magnitude\n",
    "\n",
    "plt.figure(figsize=(15,4))\n",
    "plt.contourf(X, Y,M,cmap=plt.cm.viridis,alpha=0.6)\n",
    "plt.quiver(X, Y, 10*u,v, scale=4,headwidth=2)\n",
    "plt.plot(x,delta,'red',linewidth=3)\n",
    "plt.xlabel(\"$X$\")\n",
    "plt.ylabel(\"$Y$\")\n",
    "plt.xlim(0.001,0.01)\n",
    "plt.ylim(0.001,0.01)\n",
    "plt.show()"
   ]
  }
 ],
 "metadata": {
  "kernelspec": {
   "display_name": "Python 3 (ipykernel)",
   "language": "python",
   "name": "python3"
  },
  "language_info": {
   "codemirror_mode": {
    "name": "ipython",
    "version": 3
   },
   "file_extension": ".py",
   "mimetype": "text/x-python",
   "name": "python",
   "nbconvert_exporter": "python",
   "pygments_lexer": "ipython3",
   "version": "3.9.7"
  }
 },
 "nbformat": 4,
 "nbformat_minor": 5
}
