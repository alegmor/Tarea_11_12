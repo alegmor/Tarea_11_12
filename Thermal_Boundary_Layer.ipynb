{
 "cells": [
  {
   "cell_type": "markdown",
   "id": "bc39ee48",
   "metadata": {},
   "source": [
    "<div>\n",
    "<img align=\"center\"\n",
    "src=\"Images/HT-banner-CONV.png\" width=\"950\" height=\"9500\"/>\n",
    "</div>\n"
   ]
  },
  {
   "cell_type": "markdown",
   "id": "338aae2e",
   "metadata": {},
   "source": [
    "### <center> Capa límite térmica <center/>\n",
    "Si el fluido y la placa están a temperaturas diferentes, también se formará una capa límite térmica\n",
    "   \n",
    "<div>\n",
    "<img align=\"center\"\n",
    "src=\"Images/thermal_bl.jpg\" width=\"500\" height=\"500\"/>\n",
    "</div>"
   ]
  },
  {
   "cell_type": "markdown",
   "id": "94d76b77",
   "metadata": {},
   "source": [
    "La ecuación de conservación de energía que tenemos que resolver para la capa límite es\n",
    "\n",
    "$$ u \\dfrac{\\partial T}{\\partial x}+ v \\dfrac{\\partial T}{\\partial y} = \\alpha \\dfrac{\\partial^2 T}{\\partial y^2}$$\n",
    "\n",
    "donde $u$ y $v$ son las velocidades obtenidas para la capa límite. En términos de la función de corriente $f$  y de la variable de similaridad $\\eta$, la conservación de energía toma la forma\n",
    "\n",
    "$$\\dfrac{d^2 T*}{d \\eta^2}+ \\dfrac{Pr}{2}f\\dfrac{dT*}{d\\eta}=0,\\quad(2)$$\n",
    "\n",
    "con $T^* = (T-T_s)/(T_\\infty-T_s)$ y el número de Prantdl $Pr=\\nu/\\alpha$.\n",
    "\n",
    "Las condiciones de frontera son\n",
    "\n",
    "$$T^*(0)=0, \\qquad T^* = 1.$$\n",
    "\n",
    "La ecuación (2) debe ser integrada numéricamente con las ecuaciones de frontera mencionadas. El resultado indica que para $Pr>0.6$\n",
    "\n",
    "$$\\dfrac{dT^*}{d \\eta} \\Big{|}_{\\eta=0} = 0.332 Pr^{1/3}$$\n",
    "\n",
    "(a) Integrar numéricamente la ecuación de transferencia de calor en la capa límite y graficar el campo de temperaturas\n",
    "\n",
    "(b) Explicar los efectos de $Pr$ en la gráfica de la temperatura $T^*(y)$\n",
    "\n",
    "(c) Graficar $\\delta$ y $\\delta_t$\n",
    "\n",
    "(d) Calcular y graficar la cantidad de calor que pasa del fluido a la placa, o viceversa. Recordando que el coeficiente de transferencia de calor local está definido por\n",
    "\n",
    "$$h_x = \\dfrac{{q_x}^{\"}}{T_s-T_\\infty} = - \\dfrac{T_{\\infty}-T_s}{T_s-T_\\infty} k \\dfrac{\\partial T^*}{\\partial y} \\Big{|}_{y=0} = k \\left(\\dfrac{u_\\infty}{\\nu x}\\right)^{1/2} \\dfrac{\\partial T^*}{\\partial \\eta} \\Big{|}_{\\eta=0}.$$\n",
    "\n",
    "(e) Calcular y graficar el número de Nusselt dado por \n",
    "\n",
    "$$Nu_x = \\dfrac{h_x x}{k},$$\n",
    "\n",
    "y es la razón entre el flujo de calor convectivo entre el flujo de calor conductivo. $Nu_x= 1$ implica que el flujo de calor convectivo es igual al flujo de calor conductivo."
   ]
  },
  {
   "cell_type": "code",
   "execution_count": null,
   "id": "c1638a51",
   "metadata": {
    "deletable": false,
    "editable": false,
    "nbgrader": {
     "cell_type": "code",
     "checksum": "6ff5d028af1cbe4a40d0e45e0aa4b77d",
     "grade": false,
     "grade_id": "cell-ebf26d9e4c696b4f",
     "locked": true,
     "schema_version": 3,
     "solution": false,
     "task": false
    }
   },
   "outputs": [],
   "source": [
    "import numpy as np\n",
    "import pandas as pd\n",
    "import matplotlib.pyplot as plt\n",
    "from scipy.integrate import odeint\n",
    "from scipy.optimize import fsolve"
   ]
  },
  {
   "cell_type": "code",
   "execution_count": null,
   "id": "fbee8ca2",
   "metadata": {
    "deletable": false,
    "editable": false,
    "nbgrader": {
     "cell_type": "code",
     "checksum": "f77981a98d227512dffb95e5d1d0c544",
     "grade": false,
     "grade_id": "cell-286ebb70c7955977",
     "locked": true,
     "schema_version": 3,
     "solution": false,
     "task": false
    }
   },
   "outputs": [],
   "source": [
    "#Definir parámetros\n",
    "ui  = 0.01\n",
    "nu  = 0.00000179\n",
    "x0  = 0.01\n",
    "ETA = 35\n",
    "eta = np.linspace(0,7,ETA)\n",
    "x   = np.linspace(0,0.01,ETA)\n",
    "y   = np.linspace(0,0.01,ETA)\n",
    "Pr1 = 10\n",
    "Pr2 = 1\n",
    "Pr3 = 0.6"
   ]
  },
  {
   "cell_type": "code",
   "execution_count": null,
   "id": "37cef26b",
   "metadata": {
    "deletable": false,
    "editable": false,
    "nbgrader": {
     "cell_type": "code",
     "checksum": "998a3b52b4d65a7f1e6704bdba58d46f",
     "grade": false,
     "grade_id": "cell-1ef71da2c94ccc03",
     "locked": true,
     "schema_version": 3,
     "solution": false,
     "task": false
    }
   },
   "outputs": [],
   "source": [
    "#Solución numérica de la capa límite hidrodinámica y térmica\n",
    "def blasT(f,t,Pr):\n",
    "    return(f[1],f[2],-0.5*f[0]*f[2],f[4],-0.5*Pr*f[0]*f[4])\n",
    "\n",
    "def blasTBC(x,ts,Pr):\n",
    "    f0 = (0,0,0.332,0.0,x)\n",
    "    f = odeint(blasT,f0,ts,args=(Pr,))\n",
    "    return 1.-f[-1,3]\n",
    "\n",
    "tbl1 = fsolve(blasTBC,x0=0.2,args=(eta,Pr1))\n",
    "tbl2 = fsolve(blasTBC,x0=0.2,args=(eta,Pr2))\n",
    "tbl3 = fsolve(blasTBC,x0=0.2,args=(eta,Pr3))\n",
    "\n",
    "f1 = [0.,0.,0.332,0.,tbl1]\n",
    "fT1  = odeint(blasT,f1,eta,args=(Pr1,))\n",
    "f2 = [0.,0.,0.332,0.,tbl2]\n",
    "fT2  = odeint(blasT,f2,eta,args=(Pr2,))\n",
    "f3 = [0.,0.,0.332,0.,tbl3]\n",
    "fT3  = odeint(blasT,f3,eta,args=(Pr3,))\n",
    "\n",
    "Tbl1 = pd.DataFrame(data={\"n\": np.round(eta,4), \"f\": fT1[:,0], \"dfdn\": fT1[:,1],\"dfdn2\": fT1[:,2],\"dTdn\": fT1[:,3],\"dTdn2\": fT1[:,4]})\n",
    "Tbl2 = pd.DataFrame(data={\"n\": np.round(eta,4), \"f\": fT2[:,0], \"dfdn\": fT2[:,1],\"dfdn2\": fT2[:,2],\"dTdn\": fT2[:,3],\"dTdn2\": fT2[:,4]})\n",
    "Tbl3 = pd.DataFrame(data={\"n\": np.round(eta,4), \"f\": fT3[:,0], \"dfdn\": fT3[:,1],\"dfdn2\": fT3[:,2],\"dTdn\": fT3[:,3],\"dTdn2\": fT3[:,4]})\n",
    "\n",
    "0.332*Pr1**(1/3.),0.332*Pr2**(1/3.),0.332*Pr3**(1/3.)"
   ]
  },
  {
   "cell_type": "code",
   "execution_count": null,
   "id": "9f14dcc5",
   "metadata": {
    "deletable": false,
    "editable": false,
    "nbgrader": {
     "cell_type": "code",
     "checksum": "ba6e53cd705d230902921e6b79889c8c",
     "grade": false,
     "grade_id": "cell-deab9cb18bd68c83",
     "locked": true,
     "schema_version": 3,
     "solution": false,
     "task": false
    }
   },
   "outputs": [],
   "source": [
    "fig,(ax1,ax2) = plt.subplots(1,2,figsize=(15,4))\n",
    "\n",
    "ax1.plot(Tbl1.n,Tbl1.dTdn,label='Pr=10')\n",
    "ax1.plot(Tbl2.n,Tbl2.dTdn,label='Pr=1')\n",
    "ax1.plot(Tbl3.n,Tbl3.dTdn,label='Pr=0.6')\n",
    "ax1.set_xlabel(\"$\\eta$\")\n",
    "ax1.set_ylabel(\"$T*$\")\n",
    "ax1.grid()\n",
    "ax1.legend()\n",
    "ax1.set_xlim(0,7)\n",
    "\n",
    "ax2.plot(y,Tbl1.dTdn,label='Pr=10')\n",
    "ax2.plot(y,Tbl2.dTdn,label='Pr=1')\n",
    "ax2.plot(y,Tbl3.dTdn,label='Pr=0.6')\n",
    "ax2.set_xlabel(\"$y$\")\n",
    "ax2.set_ylabel(\"$T*$\")\n",
    "ax2.grid()\n",
    "ax2.legend()\n",
    "\n",
    "plt.show()"
   ]
  },
  {
   "cell_type": "code",
   "execution_count": null,
   "id": "b5b90008",
   "metadata": {
    "deletable": false,
    "editable": false,
    "nbgrader": {
     "cell_type": "code",
     "checksum": "a6419911d7c797622ebdcfb0ac2f06d4",
     "grade": false,
     "grade_id": "cell-358fa1626b606e70",
     "locked": true,
     "schema_version": 3,
     "solution": false,
     "task": false
    }
   },
   "outputs": [],
   "source": [
    "plt.plot(eta,fT1[:,4],label=\"$Pr=10$\")\n",
    "plt.plot(eta,fT2[:,4],label=\"$Pr=1$\")\n",
    "plt.plot(eta,fT3[:,4],label=\"$Pr=0.6$\")\n",
    "plt.xlabel(\"$\\eta$\")\n",
    "plt.grid()\n",
    "plt.legend()\n",
    "plt.xlim(0,7)\n",
    "plt.show()"
   ]
  },
  {
   "cell_type": "code",
   "execution_count": null,
   "id": "efe670f9",
   "metadata": {
    "deletable": false,
    "editable": false,
    "nbgrader": {
     "cell_type": "code",
     "checksum": "a785503590c6be9e2c286f2d509484ff",
     "grade": false,
     "grade_id": "cell-2fea5be79c275d40",
     "locked": true,
     "schema_version": 3,
     "solution": false,
     "task": false
    }
   },
   "outputs": [],
   "source": [
    "delta   = (5)/np.sqrt((ui)/(nu*x))\n",
    "deltat = delta/(Pr1**(1/3))\n",
    "\n",
    "plt.plot(x,deltat,label=\"$\\\\delta_t$\")\n",
    "plt.plot(x,delta,label=\"$\\\\delta$\")\n",
    "plt.legend()"
   ]
  },
  {
   "cell_type": "code",
   "execution_count": null,
   "id": "b1e45c29",
   "metadata": {
    "deletable": false,
    "editable": false,
    "nbgrader": {
     "cell_type": "code",
     "checksum": "06cb2809ef60d87cea5737f5cf292b6e",
     "grade": false,
     "grade_id": "cell-27d7d02a56a7a39a",
     "locked": true,
     "schema_version": 3,
     "solution": false,
     "task": false
    }
   },
   "outputs": [],
   "source": [
    "l = len(Tbl1.dTdn)\n",
    "x    = np.linspace(0.0001,0.01,ETA)\n",
    "y    = np.linspace(0.0001,0.01,ETA)\n",
    "Y,X    = np.meshgrid(x,y)\n",
    "delta  = (5)/np.sqrt((ui)/(nu*x))\n",
    "deltat1 = delta/(Pr1**(1/3))\n",
    "eta    = np.full((len(Tbl1),len(Tbl1)),Tbl1.n)\n",
    "dfdeta = np.full((len(Tbl1),len(Tbl1)),Tbl1.dfdn)\n",
    "f      = np.full((len(Tbl1),len(Tbl1)),Tbl1.f)\n",
    "u      = ui*dfdeta\n",
    "v      = (1/2.)*np.sqrt((nu*ui)/X)*((eta*dfdeta)-f)\n",
    "M      = np.sqrt(u*u+v*v) # magnitude\n",
    "T1      = np.full((l,l),Tbl1.dTdn)\n",
    "\n",
    "plt.figure(figsize=(15,4))\n",
    "#plt.contourf(X, Y,M,cmap=plt.cm.viridis,alpha=0.6)\n",
    "plt.contourf(X,Y,T1,cmap=plt.cm.hot,alpha=0.6)\n",
    "plt.quiver(X, Y, 10*u,v,color=\"steelblue\",scale=4,headwidth=2)\n",
    "plt.plot(x,delta,'red',linewidth=3)\n",
    "plt.plot(x,deltat1,'blue',linewidth=3)\n",
    "plt.xlabel(\"$X$\")\n",
    "plt.ylabel(\"$Y$\")\n",
    "plt.show()"
   ]
  },
  {
   "cell_type": "code",
   "execution_count": null,
   "id": "f97c0fb4",
   "metadata": {
    "deletable": false,
    "editable": false,
    "nbgrader": {
     "cell_type": "code",
     "checksum": "9b0863017b04a233423c73e69980a39b",
     "grade": false,
     "grade_id": "cell-faec0da344bd3bc1",
     "locked": true,
     "schema_version": 3,
     "solution": false,
     "task": false
    }
   },
   "outputs": [],
   "source": [
    "delta  = (5)/np.sqrt((ui)/(nu*x))\n",
    "deltat2 = delta/(Pr2**(1/3))\n",
    "eta    = np.full((len(Tbl2),len(Tbl2)),Tbl2.n)\n",
    "dfdeta = np.full((len(Tbl2),len(Tbl2)),Tbl2.dfdn)\n",
    "f      = np.full((len(Tbl2),len(Tbl2)),Tbl2.f)\n",
    "u      = ui*dfdeta\n",
    "v      = (1/2.)*np.sqrt((nu*ui)/X)*((eta*dfdeta)-f)\n",
    "M      = np.sqrt(u*u+v*v) # magnitude\n",
    "T2     = np.full((l,l),Tbl2.dTdn)\n",
    "\n",
    "plt.figure(figsize=(15,4))\n",
    "#plt.contourf(X, Y,M,cmap=plt.cm.viridis,alpha=0.6)\n",
    "plt.contourf(X,Y,T2,cmap=plt.cm.hot,alpha=0.6)\n",
    "plt.quiver(X, Y, 10*u,v,color=\"steelblue\",scale=4,headwidth=2)\n",
    "plt.plot(x,delta,'r',linewidth=3)\n",
    "plt.plot(x,deltat2,'--',linewidth=3)\n",
    "plt.xlabel(\"$X$\")\n",
    "plt.ylabel(\"$Y$\")\n",
    "plt.show()"
   ]
  },
  {
   "cell_type": "code",
   "execution_count": null,
   "id": "0ba69792",
   "metadata": {
    "deletable": false,
    "editable": false,
    "nbgrader": {
     "cell_type": "code",
     "checksum": "fcf2beea98d74346ab8bfd52ff291e93",
     "grade": false,
     "grade_id": "cell-bd538c8e5d251f19",
     "locked": true,
     "schema_version": 3,
     "solution": false,
     "task": false
    }
   },
   "outputs": [],
   "source": [
    "delta  = (5)/np.sqrt((ui)/(nu*x))\n",
    "deltat3 = delta/(Pr3**(1/3))\n",
    "eta    = np.full((len(Tbl3),len(Tbl3)),Tbl3.n)\n",
    "dfdeta = np.full((len(Tbl3),len(Tbl3)),Tbl3.dfdn)\n",
    "f      = np.full((len(Tbl3),len(Tbl3)),Tbl3.f)\n",
    "u      = ui*dfdeta\n",
    "v      = (1/2.)*np.sqrt((nu*ui)/X)*((eta*dfdeta)-f)\n",
    "M      = np.sqrt(u*u+v*v) # magnitude\n",
    "T3     = np.full((l,l),Tbl3.dTdn)\n",
    "\n",
    "plt.figure(figsize=(15,4))\n",
    "#plt.contourf(X, Y,M,cmap=plt.cm.viridis,alpha=0.6)\n",
    "plt.contourf(X,Y,T3,cmap=plt.cm.hot,alpha=0.6)\n",
    "plt.quiver(X, Y, 10*u,v,color=\"steelblue\",scale=4,headwidth=2)\n",
    "plt.plot(x,delta,'r',linewidth=3)\n",
    "plt.plot(x,deltat3,'--',linewidth=3)\n",
    "plt.xlabel(\"$X$\")\n",
    "plt.ylabel(\"$Y$\")\n",
    "plt.show()"
   ]
  },
  {
   "cell_type": "code",
   "execution_count": null,
   "id": "6248730a",
   "metadata": {
    "deletable": false,
    "editable": false,
    "nbgrader": {
     "cell_type": "code",
     "checksum": "8f971426d13fb36ce759045634da11a8",
     "grade": false,
     "grade_id": "cell-8b7f06251deb5eb5",
     "locked": true,
     "schema_version": 3,
     "solution": false,
     "task": false
    }
   },
   "outputs": [],
   "source": [
    "def hx(ui,nu,x,k,Pr):\n",
    "    hx = k*np.sqrt(ui/(nu*x))*0.332*Pr**(1/3)\n",
    "    return hx\n",
    "\n",
    "plt.plot(x,hx(ui,nu,x,0.1,Pr1))\n",
    "plt.plot(x,hx(ui,nu,x,0.1,Pr2))\n",
    "plt.plot(x,hx(ui,nu,x,0.1,Pr3))\n",
    "plt.xlabel(\"$x$\")\n",
    "plt.ylabel(\"$h_x$\")\n",
    "plt.show()"
   ]
  },
  {
   "cell_type": "code",
   "execution_count": null,
   "id": "a613b9e0",
   "metadata": {
    "deletable": false,
    "editable": false,
    "nbgrader": {
     "cell_type": "code",
     "checksum": "855b5d6bbc7dd8eeee1d2668440ed0bd",
     "grade": false,
     "grade_id": "cell-f37ba6ee1192a01e",
     "locked": true,
     "schema_version": 3,
     "solution": false,
     "task": false
    }
   },
   "outputs": [],
   "source": [
    "def Nux(hx,x,k):\n",
    "    Nu = (hx*x)/k\n",
    "    return Nu\n",
    "\n",
    "plt.plot(x,Nux(hx(ui,nu,x,0.1,Pr1),x,0.1))\n",
    "plt.plot(x,Nux(hx(ui,nu,x,0.1,Pr2),x,0.1))\n",
    "plt.plot(x,Nux(hx(ui,nu,x,0.1,Pr3),x,0.1))"
   ]
  },
  {
   "cell_type": "code",
   "execution_count": null,
   "id": "be7119b7",
   "metadata": {},
   "outputs": [],
   "source": []
  }
 ],
 "metadata": {
  "kernelspec": {
   "display_name": "Python 3 (ipykernel)",
   "language": "python",
   "name": "python3"
  },
  "language_info": {
   "codemirror_mode": {
    "name": "ipython",
    "version": 3
   },
   "file_extension": ".py",
   "mimetype": "text/x-python",
   "name": "python",
   "nbconvert_exporter": "python",
   "pygments_lexer": "ipython3",
   "version": "3.9.7"
  }
 },
 "nbformat": 4,
 "nbformat_minor": 5
}
